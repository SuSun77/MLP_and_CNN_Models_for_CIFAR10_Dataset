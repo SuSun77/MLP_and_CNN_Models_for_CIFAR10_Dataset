{
 "cells": [
  {
   "cell_type": "markdown",
   "metadata": {},
   "source": [
    "Load packages"
   ]
  },
  {
   "cell_type": "code",
   "execution_count": 1,
   "metadata": {},
   "outputs": [
    {
     "name": "stderr",
     "output_type": "stream",
     "text": [
      "Using TensorFlow backend.\n"
     ]
    }
   ],
   "source": [
    "import keras\n",
    "from keras.datasets import cifar10\n",
    "from sklearn.model_selection import train_test_split\n",
    "import numpy as np\n",
    "from keras.utils import np_utils\n",
    "from keras.models import Sequential\n",
    "from keras.layers import Dense, Dropout, Flatten, Conv2D, MaxPooling2D\n",
    "from keras.callbacks import ModelCheckpoint\n",
    "from matplotlib import pyplot as plt"
   ]
  },
  {
   "cell_type": "markdown",
   "metadata": {},
   "source": [
    "Load dataset"
   ]
  },
  {
   "cell_type": "code",
   "execution_count": 2,
   "metadata": {},
   "outputs": [],
   "source": [
    "(X_train, Y_train), (X_test, Y_test) = cifar10.load_data()"
   ]
  },
  {
   "cell_type": "markdown",
   "metadata": {},
   "source": [
    "Use *train_test_split* function random sample 20% of the training set"
   ]
  },
  {
   "cell_type": "code",
   "execution_count": 3,
   "metadata": {},
   "outputs": [],
   "source": [
    "X_train, _, Y_train, _ = train_test_split(X_train, Y_train, test_size=0.8, random_state=42)"
   ]
  },
  {
   "cell_type": "markdown",
   "metadata": {},
   "source": [
    "Normalize image vectors"
   ]
  },
  {
   "cell_type": "code",
   "execution_count": 4,
   "metadata": {},
   "outputs": [],
   "source": [
    "X_train = X_train.astype('float32')/255\n",
    "X_test = X_test.astype('float32')/255"
   ]
  },
  {
   "cell_type": "markdown",
   "metadata": {},
   "source": [
    "Split the testing set into validation and testing"
   ]
  },
  {
   "cell_type": "code",
   "execution_count": 5,
   "metadata": {},
   "outputs": [],
   "source": [
    "num_classes = len(np.unique(Y_train))\n",
    "#\n",
    "Y_train = keras.utils.to_categorical(Y_train, num_classes)\n",
    "Y_test = keras.utils.to_categorical(Y_test, num_classes)\n",
    "\n",
    "X_valid = X_test[5000:]\n",
    "Y_valid = Y_test[5000:]\n",
    "\n",
    "X_test = X_test[:5000]\n",
    "Y_test = Y_test[:5000]"
   ]
  },
  {
   "cell_type": "markdown",
   "metadata": {},
   "source": [
    "Building MLP model"
   ]
  },
  {
   "cell_type": "code",
   "execution_count": 6,
   "metadata": {},
   "outputs": [],
   "source": [
    "MLPModel = Sequential()\n",
    "\n",
    "MLPModel.add(Flatten(input_shape = X_train.shape[1:]))\n",
    "#Fully connected layer with 512 units and a sigmoid activation function\n",
    "MLPModel.add(Dense(512, activation='sigmoid', input_shape = X_train.shape[1:]))\n",
    "#Fully connected layer with 512 units and a sigmoid activation function\n",
    "MLPModel.add(Dense(512, activation='sigmoid'))\n",
    "#Output layer with softmax activation function and 10 neurons for the classification task\n",
    "MLPModel.add(Dense(num_classes, activation='softmax'))"
   ]
  },
  {
   "cell_type": "markdown",
   "metadata": {},
   "source": [
    "Compile the model using categorical_cross_entropy as the loss function as this is a multi classification problem"
   ]
  },
  {
   "cell_type": "code",
   "execution_count": 7,
   "metadata": {},
   "outputs": [],
   "source": [
    "MLPModel.compile(loss='categorical_crossentropy', optimizer='Adam', metrics=['accuracy'])"
   ]
  },
  {
   "cell_type": "markdown",
   "metadata": {},
   "source": [
    "Train the model"
   ]
  },
  {
   "cell_type": "code",
   "execution_count": 8,
   "metadata": {},
   "outputs": [
    {
     "name": "stdout",
     "output_type": "stream",
     "text": [
      "Train on 10000 samples, validate on 5000 samples\n",
      "Epoch 1/5\n",
      "10000/10000 [==============================] - 25s 3ms/step - loss: 2.0766 - accuracy: 0.2275 - val_loss: 1.9619 - val_accuracy: 0.2552\n",
      "Epoch 2/5\n",
      "10000/10000 [==============================] - 23s 2ms/step - loss: 1.9292 - accuracy: 0.2915 - val_loss: 1.8611 - val_accuracy: 0.3216\n",
      "Epoch 3/5\n",
      "10000/10000 [==============================] - 23s 2ms/step - loss: 1.8624 - accuracy: 0.3221 - val_loss: 1.8662 - val_accuracy: 0.3236\n",
      "Epoch 4/5\n",
      "10000/10000 [==============================] - 22s 2ms/step - loss: 1.7961 - accuracy: 0.3532 - val_loss: 1.8558 - val_accuracy: 0.3358\n",
      "Epoch 5/5\n",
      "10000/10000 [==============================] - 22s 2ms/step - loss: 1.7809 - accuracy: 0.3577 - val_loss: 1.7951 - val_accuracy: 0.3516\n"
     ]
    }
   ],
   "source": [
    "history1 = MLPModel.fit(x = X_train, y = Y_train, validation_data=(X_valid, Y_valid), epochs = 5, batch_size = 32)"
   ]
  },
  {
   "cell_type": "markdown",
   "metadata": {},
   "source": [
    "Plot the training and validation accuracies"
   ]
  },
  {
   "cell_type": "code",
   "execution_count": 9,
   "metadata": {},
   "outputs": [
    {
     "data": {
      "image/png": "[encoded data removed]",
      "text/plain": [
       "<Figure size 432x288 with 1 Axes>"
      ]
     },
     "metadata": {
      "needs_background": "light"
     },
     "output_type": "display_data"
    }
   ],
   "source": [
    "plt.plot(history1.history['accuracy'])\n",
    "plt.plot(history1.history['val_accuracy'])\n",
    "plt.title('MLP accuracy')\n",
    "plt.ylabel('Accuracy')\n",
    "plt.xlabel('Epoch')\n",
    "plt.legend(['Train', 'Validation'], loc='upper left')\n",
    "plt.show()"
   ]
  },
  {
   "cell_type": "markdown",
   "metadata": {},
   "source": [
    "Evaluate the model using testing set"
   ]
  },
  {
   "cell_type": "code",
   "execution_count": 10,
   "metadata": {},
   "outputs": [
    {
     "name": "stdout",
     "output_type": "stream",
     "text": [
      "5000/5000 [==============================] - 1s 218us/step\n",
      "Loss = 1.7731433101654053\n",
      "Test Accuracy = 0.365200012922287\n"
     ]
    }
   ],
   "source": [
    "preds = MLPModel.evaluate(x = X_test, y = Y_test)\n",
    "print (\"Loss = \" + str(preds[0]))\n",
    "print (\"Test Accuracy = \" + str(preds[1]))"
   ]
  },
  {
   "cell_type": "markdown",
   "metadata": {},
   "source": [
    "Print the details of layers in a table with the sizes of its inputs/outputs"
   ]
  },
  {
   "cell_type": "code",
   "execution_count": 57,
   "metadata": {},
   "outputs": [
    {
     "name": "stdout",
     "output_type": "stream",
     "text": [
      "Model: \"sequential_1\"\n",
      "_________________________________________________________________\n",
      "Layer (type)                 Output Shape              Param #   \n",
      "=================================================================\n",
      "flatten_1 (Flatten)          (None, 3072)              0         \n",
      "_________________________________________________________________\n",
      "dense_1 (Dense)              (None, 512)               1573376   \n",
      "_________________________________________________________________\n",
      "dense_2 (Dense)              (None, 512)               262656    \n",
      "_________________________________________________________________\n",
      "dense_3 (Dense)              (None, 10)                5130      \n",
      "=================================================================\n",
      "Total params: 1,841,162\n",
      "Trainable params: 1,841,162\n",
      "Non-trainable params: 0\n",
      "_________________________________________________________________\n"
     ]
    }
   ],
   "source": [
    "MLPModel.summary()"
   ]
  },
  {
   "cell_type": "markdown",
   "metadata": {},
   "source": [
    "Building the first CNN model"
   ]
  },
  {
   "cell_type": "code",
   "execution_count": 58,
   "metadata": {
    "scrolled": true
   },
   "outputs": [],
   "source": [
    "CNN1Model = Sequential()\n",
    "#2D Convolutional layer with 64 filters (size of 3x3) and ReLU activation function\n",
    "CNN1Model.add(Conv2D(64, (3, 3), padding='same', activation='relu', input_shape=(32,32,3)))\n",
    "#2D Convolutional layer with 64 filters (size of 3x3) and ReLU activation function\n",
    "CNN1Model.add(Conv2D(64, (3, 3), padding='same', activation='relu'))\n",
    "CNN1Model.add(Flatten())\n",
    "#Fully connected (Dense) layer with 512 units and a sigmoid activation function\n",
    "CNN1Model.add(Dense(512, activation='sigmoid'))\n",
    "#Fully connected layer with 512 units and a sigmoid activation function\n",
    "CNN1Model.add(Dense(512, activation='sigmoid'))\n",
    "#Output layer with softmax activation function and 10 neurons for the classification task\n",
    "CNN1Model.add(Dense(num_classes, activation='softmax'))"
   ]
  },
  {
   "cell_type": "markdown",
   "metadata": {},
   "source": [
    "Compile the model using categorical_cross_entropy as the loss function as this is a multi classification problem"
   ]
  },
  {
   "cell_type": "code",
   "execution_count": 59,
   "metadata": {},
   "outputs": [],
   "source": [
    "CNN1Model.compile(loss='categorical_crossentropy', optimizer='adam', metrics=['accuracy'])"
   ]
  },
  {
   "cell_type": "markdown",
   "metadata": {},
   "source": [
    "Train the model"
   ]
  },
  {
   "cell_type": "code",
   "execution_count": 60,
   "metadata": {},
   "outputs": [
    {
     "name": "stdout",
     "output_type": "stream",
     "text": [
      "Train on 10000 samples, validate on 5000 samples\n",
      "Epoch 1/5\n",
      "10000/10000 [==============================] - 332s 33ms/step - loss: 1.7689 - accuracy: 0.3471 - val_loss: 1.5872 - val_accuracy: 0.4218\n",
      "Epoch 2/5\n",
      "10000/10000 [==============================] - 311s 31ms/step - loss: 1.3109 - accuracy: 0.5234 - val_loss: 1.3239 - val_accuracy: 0.5180\n",
      "Epoch 3/5\n",
      "10000/10000 [==============================] - 293s 29ms/step - loss: 0.9799 - accuracy: 0.6540 - val_loss: 1.4626 - val_accuracy: 0.5030\n",
      "Epoch 4/5\n",
      "10000/10000 [==============================] - 289s 29ms/step - loss: 0.5864 - accuracy: 0.7955 - val_loss: 1.5309 - val_accuracy: 0.5192\n",
      "Epoch 5/5\n",
      "10000/10000 [==============================] - 291s 29ms/step - loss: 0.2068 - accuracy: 0.9425 - val_loss: 1.6707 - val_accuracy: 0.5438\n"
     ]
    }
   ],
   "source": [
    "history2 = CNN1Model.fit(x = X_train, y = Y_train, validation_data=(X_valid, Y_valid), epochs = 5, batch_size = 32)"
   ]
  },
  {
   "cell_type": "markdown",
   "metadata": {},
   "source": [
    "Plot the training and validation curves"
   ]
  },
  {
   "cell_type": "code",
   "execution_count": 61,
   "metadata": {},
   "outputs": [
    {
     "data": {
      "image/png": "[encoded data removed]",
      "text/plain": [
       "<Figure size 432x288 with 1 Axes>"
      ]
     },
     "metadata": {
      "needs_background": "light"
     },
     "output_type": "display_data"
    }
   ],
   "source": [
    "plt.plot(history2.history['accuracy'])\n",
    "plt.plot(history2.history['val_accuracy'])\n",
    "plt.title('CNN1 accuracy')\n",
    "plt.ylabel('Accuracy')\n",
    "plt.xlabel('Epoch')\n",
    "plt.legend(['Train', 'Validation'], loc='upper left')\n",
    "plt.show()"
   ]
  },
  {
   "cell_type": "markdown",
   "metadata": {},
   "source": [
    "Evaluate the model using testing set"
   ]
  },
  {
   "cell_type": "code",
   "execution_count": 62,
   "metadata": {},
   "outputs": [
    {
     "name": "stdout",
     "output_type": "stream",
     "text": [
      "5000/5000 [==============================] - 13s 3ms/step\n",
      "Loss = 1.6121914421081542\n",
      "Test Accuracy = 0.5540000200271606\n"
     ]
    }
   ],
   "source": [
    "preds = CNN1Model.evaluate(x = X_test, y = Y_test)\n",
    "print (\"Loss = \" + str(preds[0]))\n",
    "print (\"Test Accuracy = \" + str(preds[1]))"
   ]
  },
  {
   "cell_type": "markdown",
   "metadata": {},
   "source": [
    "Print the details of layers in a table with the sizes of its inputs/outputs"
   ]
  },
  {
   "cell_type": "code",
   "execution_count": 63,
   "metadata": {},
   "outputs": [
    {
     "name": "stdout",
     "output_type": "stream",
     "text": [
      "Model: \"sequential_21\"\n",
      "_________________________________________________________________\n",
      "Layer (type)                 Output Shape              Param #   \n",
      "=================================================================\n",
      "conv2d_9 (Conv2D)            (None, 32, 32, 64)        1792      \n",
      "_________________________________________________________________\n",
      "conv2d_10 (Conv2D)           (None, 32, 32, 64)        36928     \n",
      "_________________________________________________________________\n",
      "flatten_21 (Flatten)         (None, 65536)             0         \n",
      "_________________________________________________________________\n",
      "dense_58 (Dense)             (None, 512)               33554944  \n",
      "_________________________________________________________________\n",
      "dense_59 (Dense)             (None, 512)               262656    \n",
      "_________________________________________________________________\n",
      "dense_60 (Dense)             (None, 10)                5130      \n",
      "=================================================================\n",
      "Total params: 33,861,450\n",
      "Trainable params: 33,861,450\n",
      "Non-trainable params: 0\n",
      "_________________________________________________________________\n"
     ]
    }
   ],
   "source": [
    "CNN1Model.summary()"
   ]
  },
  {
   "cell_type": "markdown",
   "metadata": {},
   "source": [
    "Building the second CNN model"
   ]
  },
  {
   "cell_type": "code",
   "execution_count": 27,
   "metadata": {},
   "outputs": [],
   "source": [
    "CNN2Model = Sequential()\n",
    "#2D Convolutional layer with 64 filters (size of 3x3) and ReLU activation function\n",
    "CNN2Model.add(Conv2D(64, (3, 3), activation=\"relu\", padding='same', input_shape=(32,32,3)))\n",
    "#2x2 Max pooling layer\n",
    "CNN2Model.add(MaxPooling2D(pool_size=2))\n",
    "#2D Convolutional layer with 64 filters (size of 3x3) and ReLU activation function\n",
    "CNN2Model.add(Conv2D(64, (3, 3), activation=\"relu\", padding='same'))\n",
    "#2x2 Max pooling layer\n",
    "CNN2Model.add(MaxPooling2D(pool_size=2))\n",
    "CNN2Model.add(Flatten())\n",
    "#Fully connected layer with 512 units and a sigmoid activation function\n",
    "CNN2Model.add(Dense(512, activation='sigmoid'))\n",
    "#Dropout layer with 0.2 dropout rate\n",
    "CNN2Model.add(Dropout(0.2))\n",
    "#Fully connected layer with 512 units and a sigmoid activation function\n",
    "CNN2Model.add(Dense(512, activation='sigmoid'))\n",
    "#Dropout layer with 0.2 dropout rate\n",
    "CNN2Model.add(Dropout(0.2))\n",
    "#Output layer with softmax activation function and 10 neurons for the classification task\n",
    "CNN2Model.add(Dense(num_classes, activation='softmax'))"
   ]
  },
  {
   "cell_type": "markdown",
   "metadata": {},
   "source": [
    "Compile the model using categorical_cross_entropy as the loss function as this is a multi classification problem"
   ]
  },
  {
   "cell_type": "code",
   "execution_count": 28,
   "metadata": {},
   "outputs": [],
   "source": [
    "CNN2Model.compile(loss='categorical_crossentropy', optimizer='adam', metrics=['accuracy'])"
   ]
  },
  {
   "cell_type": "markdown",
   "metadata": {},
   "source": [
    "Train the model"
   ]
  },
  {
   "cell_type": "code",
   "execution_count": 29,
   "metadata": {},
   "outputs": [
    {
     "name": "stdout",
     "output_type": "stream",
     "text": [
      "Train on 10000 samples, validate on 5000 samples\n",
      "Epoch 1/5\n",
      "10000/10000 [==============================] - 55s 6ms/step - loss: 1.9873 - accuracy: 0.2623 - val_loss: 1.6272 - val_accuracy: 0.3866\n",
      "Epoch 2/5\n",
      "10000/10000 [==============================] - 53s 5ms/step - loss: 1.5266 - accuracy: 0.4390 - val_loss: 1.4352 - val_accuracy: 0.4716\n",
      "Epoch 3/5\n",
      "10000/10000 [==============================] - 52s 5ms/step - loss: 1.3502 - accuracy: 0.5102 - val_loss: 1.3081 - val_accuracy: 0.5210\n",
      "Epoch 4/5\n",
      "10000/10000 [==============================] - 50s 5ms/step - loss: 1.1994 - accuracy: 0.5704 - val_loss: 1.2566 - val_accuracy: 0.5352\n",
      "Epoch 5/5\n",
      "10000/10000 [==============================] - 49s 5ms/step - loss: 1.0699 - accuracy: 0.6178 - val_loss: 1.1996 - val_accuracy: 0.5724\n"
     ]
    }
   ],
   "source": [
    "history3 = CNN2Model.fit(x = X_train, y = Y_train, validation_data=(X_valid, Y_valid), epochs = 5, batch_size = 32)"
   ]
  },
  {
   "cell_type": "markdown",
   "metadata": {},
   "source": [
    "Plot the training and validation curves"
   ]
  },
  {
   "cell_type": "code",
   "execution_count": 30,
   "metadata": {},
   "outputs": [
    {
     "data": {
      "image/png": "[encoded data removed]",
      "text/plain": [
       "<Figure size 432x288 with 1 Axes>"
      ]
     },
     "metadata": {
      "needs_background": "light"
     },
     "output_type": "display_data"
    }
   ],
   "source": [
    "plt.plot(history3.history['accuracy'])\n",
    "plt.plot(history3.history['val_accuracy'])\n",
    "plt.title('CNN2 accuracy')\n",
    "plt.ylabel('Accuracy')\n",
    "plt.xlabel('Epoch')\n",
    "plt.legend(['Train', 'Validation'], loc='upper left')\n",
    "plt.show()"
   ]
  },
  {
   "cell_type": "markdown",
   "metadata": {},
   "source": [
    "Evaluate the model using testing set"
   ]
  },
  {
   "cell_type": "code",
   "execution_count": 31,
   "metadata": {},
   "outputs": [
    {
     "name": "stdout",
     "output_type": "stream",
     "text": [
      "5000/5000 [==============================] - 7s 1ms/step\n",
      "Loss = 1.178193790435791\n",
      "Test Accuracy = 0.5767999887466431\n"
     ]
    }
   ],
   "source": [
    "preds = CNN2Model.evaluate(x = X_test, y = Y_test)\n",
    "print (\"Loss = \" + str(preds[0]))\n",
    "print (\"Test Accuracy = \" + str(preds[1]))"
   ]
  },
  {
   "cell_type": "markdown",
   "metadata": {},
   "source": [
    "Print the details of layers in a table with the sizes of its inputs/outputs"
   ]
  },
  {
   "cell_type": "code",
   "execution_count": 32,
   "metadata": {},
   "outputs": [
    {
     "name": "stdout",
     "output_type": "stream",
     "text": [
      "Model: \"sequential_4\"\n",
      "_________________________________________________________________\n",
      "Layer (type)                 Output Shape              Param #   \n",
      "=================================================================\n",
      "conv2d_5 (Conv2D)            (None, 32, 32, 64)        1792      \n",
      "_________________________________________________________________\n",
      "max_pooling2d_3 (MaxPooling2 (None, 16, 16, 64)        0         \n",
      "_________________________________________________________________\n",
      "conv2d_6 (Conv2D)            (None, 16, 16, 64)        36928     \n",
      "_________________________________________________________________\n",
      "max_pooling2d_4 (MaxPooling2 (None, 8, 8, 64)          0         \n",
      "_________________________________________________________________\n",
      "flatten_4 (Flatten)          (None, 4096)              0         \n",
      "_________________________________________________________________\n",
      "dense_10 (Dense)             (None, 512)               2097664   \n",
      "_________________________________________________________________\n",
      "dropout_3 (Dropout)          (None, 512)               0         \n",
      "_________________________________________________________________\n",
      "dense_11 (Dense)             (None, 512)               262656    \n",
      "_________________________________________________________________\n",
      "dropout_4 (Dropout)          (None, 512)               0         \n",
      "_________________________________________________________________\n",
      "dense_12 (Dense)             (None, 10)                5130      \n",
      "=================================================================\n",
      "Total params: 2,404,170\n",
      "Trainable params: 2,404,170\n",
      "Non-trainable params: 0\n",
      "_________________________________________________________________\n"
     ]
    }
   ],
   "source": [
    "CNN2Model.summary()"
   ]
  },
  {
   "cell_type": "markdown",
   "metadata": {},
   "source": [
    "Change the number of layers and the number of neurons per layer in the MLP"
   ]
  },
  {
   "cell_type": "code",
   "execution_count": 54,
   "metadata": {},
   "outputs": [
    {
     "name": "stdout",
     "output_type": "stream",
     "text": [
      "Train on 10000 samples, validate on 5000 samples\n",
      "Epoch 1/5\n",
      "10000/10000 [==============================] - 26s 3ms/step - loss: 2.1064 - accuracy: 0.2062 - val_loss: 1.9694 - val_accuracy: 0.2744\n",
      "Epoch 2/5\n",
      "10000/10000 [==============================] - 24s 2ms/step - loss: 1.9361 - accuracy: 0.2887 - val_loss: 1.9706 - val_accuracy: 0.2708\n",
      "Epoch 3/5\n",
      "10000/10000 [==============================] - 24s 2ms/step - loss: 1.8817 - accuracy: 0.3106 - val_loss: 1.8982 - val_accuracy: 0.2974\n",
      "Epoch 4/5\n",
      "10000/10000 [==============================] - 23s 2ms/step - loss: 1.8605 - accuracy: 0.3173 - val_loss: 1.8575 - val_accuracy: 0.3282\n",
      "Epoch 5/5\n",
      "10000/10000 [==============================] - 22s 2ms/step - loss: 1.8232 - accuracy: 0.3326 - val_loss: 1.7940 - val_accuracy: 0.3444\n",
      "5000/5000 [==============================] - 1s 229us/step\n",
      "Loss = 1.782198150253296\n",
      "Test Accuracy = 0.34060001373291016\n"
     ]
    }
   ],
   "source": [
    "MLPModelv1 = Sequential()\n",
    "\n",
    "MLPModelv1.add(Flatten(input_shape = X_train.shape[1:]))\n",
    "MLPModelv1.add(Dense(512, activation='sigmoid', input_shape = X_train.shape[1:]))\n",
    "MLPModelv1.add(Dense(512, activation='sigmoid'))\n",
    "MLPModelv1.add(Dense(256, activation='sigmoid'))\n",
    "MLPModelv1.add(Dense(num_classes, activation='softmax'))\n",
    "\n",
    "MLPModelv1.compile(loss='categorical_crossentropy', optimizer='Adam', metrics=['accuracy'])\n",
    "\n",
    "history4 = MLPModelv1.fit(x = X_train, y = Y_train, validation_data=(X_valid, Y_valid), epochs = 5, batch_size = 32)\n",
    "\n",
    "preds = MLPModelv1.evaluate(x = X_test, y = Y_test)\n",
    "print (\"Loss = \" + str(preds[0]))\n",
    "print (\"Test Accuracy = \" + str(preds[1]))"
   ]
  },
  {
   "cell_type": "code",
   "execution_count": 55,
   "metadata": {},
   "outputs": [
    {
     "data": {
      "image/png": "[encoded data removed]",
      "text/plain": [
       "<Figure size 432x288 with 1 Axes>"
      ]
     },
     "metadata": {
      "needs_background": "light"
     },
     "output_type": "display_data"
    }
   ],
   "source": [
    "plt.plot(history4.history['accuracy'])\n",
    "plt.plot(history4.history['val_accuracy'])\n",
    "plt.title('MLP-v1 accuracy')\n",
    "plt.ylabel('Accuracy')\n",
    "plt.xlabel('Epoch')\n",
    "plt.legend(['Train', 'Validation'], loc='upper left')\n",
    "plt.show()"
   ]
  },
  {
   "cell_type": "markdown",
   "metadata": {},
   "source": [
    "Change the number of layers and the number of neurons per layer in the MLP"
   ]
  },
  {
   "cell_type": "code",
   "execution_count": 52,
   "metadata": {},
   "outputs": [
    {
     "name": "stdout",
     "output_type": "stream",
     "text": [
      "Train on 10000 samples, validate on 5000 samples\n",
      "Epoch 1/5\n",
      "10000/10000 [==============================] - 5s 544us/step - loss: 2.2149 - accuracy: 0.1703 - val_loss: 2.1314 - val_accuracy: 0.2070\n",
      "Epoch 2/5\n",
      "10000/10000 [==============================] - 2s 200us/step - loss: 2.0780 - accuracy: 0.2473 - val_loss: 2.0644 - val_accuracy: 0.2370\n",
      "Epoch 3/5\n",
      "10000/10000 [==============================] - 3s 261us/step - loss: 2.0068 - accuracy: 0.2821 - val_loss: 1.9896 - val_accuracy: 0.2854\n",
      "Epoch 4/5\n",
      "10000/10000 [==============================] - 3s 269us/step - loss: 1.9456 - accuracy: 0.3056 - val_loss: 1.9328 - val_accuracy: 0.3054\n",
      "Epoch 5/5\n",
      "10000/10000 [==============================] - 2s 214us/step - loss: 1.9110 - accuracy: 0.3160 - val_loss: 1.9198 - val_accuracy: 0.2998\n",
      "5000/5000 [==============================] - 0s 82us/step\n",
      "Loss = 1.9083866149902344\n",
      "Test Accuracy = 0.3125999867916107\n"
     ]
    }
   ],
   "source": [
    "MLPModelv2 = Sequential()\n",
    "\n",
    "MLPModelv2.add(Flatten(input_shape = X_train.shape[1:]))\n",
    "MLPModelv2.add(Dense(10, activation='sigmoid', input_shape = X_train.shape[1:]))\n",
    "MLPModelv2.add(Dense(num_classes, activation='softmax'))\n",
    "\n",
    "MLPModelv2.compile(loss='categorical_crossentropy', optimizer='Adam', metrics=['accuracy'])\n",
    "\n",
    "history5 = MLPModelv2.fit(x = X_train, y = Y_train, validation_data=(X_valid, Y_valid), epochs = 5, batch_size = 32)\n",
    "\n",
    "preds = MLPModelv2.evaluate(x = X_test, y = Y_test)\n",
    "print (\"Loss = \" + str(preds[0]))\n",
    "print (\"Test Accuracy = \" + str(preds[1]))"
   ]
  },
  {
   "cell_type": "code",
   "execution_count": 53,
   "metadata": {},
   "outputs": [
    {
     "data": {
      "image/png": "[encoded data removed]",
      "text/plain": [
       "<Figure size 432x288 with 1 Axes>"
      ]
     },
     "metadata": {
      "needs_background": "light"
     },
     "output_type": "display_data"
    }
   ],
   "source": [
    "plt.plot(history5.history['accuracy'])\n",
    "plt.plot(history5.history['val_accuracy'])\n",
    "plt.title('MLP-v2 accuracy')\n",
    "plt.ylabel('Accuracy')\n",
    "plt.xlabel('Epoch')\n",
    "plt.legend(['Train', 'Validation'], loc='upper left')\n",
    "plt.show()"
   ]
  },
  {
   "cell_type": "code",
   "execution_count": null,
   "metadata": {},
   "outputs": [],
   "source": []
  }
 ],
 "metadata": {
  "kernelspec": {
   "display_name": "Python 3",
   "language": "python",
   "name": "python3"
  },
  "language_info": {
   "codemirror_mode": {
    "name": "ipython",
    "version": 3
   },
   "file_extension": ".py",
   "mimetype": "text/x-python",
   "name": "python",
   "nbconvert_exporter": "python",
   "pygments_lexer": "ipython3",
   "version": "3.7.7"
  }
 },
 "nbformat": 4,
 "nbformat_minor": 4
}
